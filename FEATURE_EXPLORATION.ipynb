{
 "cells": [
  {
   "cell_type": "markdown",
   "metadata": {},
   "source": [
    "# Table of Contents\n",
    "* [1: LOAD FEATURES](#load)\n",
    "    * [1.1 load embeddings](#emdessings)\n",
    "    * [1.2 load hand selected features](#hand)\n",
    "    * [1.3 concatenate embedding + hand selected](#concat)\n",
    "    * [1.4 load labels](#labels)\n",
    "    * [1.5 submission results](#prediction)\n",
    "* [2: EXPLORE CORRELATION](#corrleation)\n",
    "* [3: PREDICTIONS](#pred)\n",
    "    * [3.1 400 best features](#best)\n",
    "    * [3.2 subcorpora](#sub)"
   ]
  },
  {
   "cell_type": "markdown",
   "metadata": {},
   "source": [
    "# 1 LOAD FEATURES <a class=\"anchor\" id=\"load\"></a>"
   ]
  },
  {
   "cell_type": "code",
   "execution_count": 1,
   "metadata": {},
   "outputs": [],
   "source": [
    "import numpy as np\n",
    "import pandas as pd"
   ]
  },
  {
   "cell_type": "markdown",
   "metadata": {},
   "source": [
    "## 1.1 load embedding based features <a class=\"anchor\" id=\"embeddings\"></a>\n",
    "1. target word embeddings\n",
    "2. sentence embedding\n",
    "\n",
    "3. target + sentences mean\n",
    "4. target + sentences concatenation"
   ]
  },
  {
   "cell_type": "code",
   "execution_count": 2,
   "metadata": {},
   "outputs": [
    {
     "name": "stdout",
     "output_type": "stream",
     "text": [
      "(7662, 768)\n",
      "(7662, 1536)\n"
     ]
    }
   ],
   "source": [
    "single_target_embedding_train=np.genfromtxt('features/single_target_embedding_train.csv', delimiter=',')\n",
    "single_target_embedding_trial=np.genfromtxt('features/single_target_embedding_trial.csv', delimiter=',')\n",
    "single_target_embedding_test=np.genfromtxt('features/single_target_embedding_test.csv', delimiter=',')\n",
    "\n",
    "single_sentence_embedding_train=np.genfromtxt('features/single_sentence_embedding_train.csv', delimiter=',')\n",
    "single_sentence_embedding_trial=np.genfromtxt('features/single_sentence_embedding_trial.csv', delimiter=',')\n",
    "single_sentence_embedding_test=np.genfromtxt('features/single_sentence_embedding_test.csv', delimiter=',')\n",
    "\n",
    "single_mean_embedding_train = np.mean((single_target_embedding_train,single_sentence_embedding_train),axis=0)\n",
    "single_mean_embedding_trial = np.mean((single_target_embedding_trial,single_sentence_embedding_trial),axis=0)\n",
    "single_mean_embedding_test = np.mean((single_target_embedding_test,single_sentence_embedding_test),axis=0)\n",
    "\n",
    "single_concat_embedding_train = np.concatenate((single_target_embedding_train,single_sentence_embedding_train),axis=1)\n",
    "single_concat_embedding_trial = np.concatenate((single_target_embedding_trial,single_sentence_embedding_trial),axis=1)\n",
    "single_concat_embedding_test = np.concatenate((single_target_embedding_test,single_sentence_embedding_test),axis=1)\n",
    "\n",
    "\n",
    "print(single_mean_embedding_train.shape)\n",
    "print(single_concat_embedding_train.shape)"
   ]
  },
  {
   "cell_type": "code",
   "execution_count": 3,
   "metadata": {},
   "outputs": [
    {
     "name": "stdout",
     "output_type": "stream",
     "text": [
      "(1517, 768)\n",
      "(1517, 1536)\n"
     ]
    }
   ],
   "source": [
    "multi_target_embedding_train=np.genfromtxt('features/mwe_target_embedding_train.csv', delimiter=',')\n",
    "multi_target_embedding_trial=np.genfromtxt('features/mwe_target_embedding_trial.csv', delimiter=',')\n",
    "multi_target_embedding_test=np.genfromtxt('features/mwe_target_embedding_test.csv', delimiter=',')\n",
    "\n",
    "multi_sentence_embedding_train=np.genfromtxt('features/mwe_sentence_embedding_train.csv', delimiter=',')\n",
    "multi_sentence_embedding_trial=np.genfromtxt('features/mwe_sentence_embedding_trial.csv', delimiter=',')\n",
    "multi_sentence_embedding_test=np.genfromtxt('features/mwe_sentence_embedding_test.csv', delimiter=',')\n",
    "\n",
    "multi_mean_embedding_train = np.mean((multi_target_embedding_train,multi_sentence_embedding_train),axis=0)\n",
    "multi_mean_embedding_trial = np.mean((multi_target_embedding_trial,multi_sentence_embedding_trial),axis=0)\n",
    "multi_mean_embedding_test = np.mean((multi_target_embedding_test,multi_sentence_embedding_test),axis=0)\n",
    "\n",
    "multi_concat_embedding_train = np.concatenate((multi_target_embedding_train,multi_sentence_embedding_train),axis=1)\n",
    "multi_concat_embedding_trial = np.concatenate((multi_target_embedding_trial,multi_sentence_embedding_trial),axis=1)\n",
    "multi_concat_embedding_test = np.concatenate((multi_target_embedding_test,multi_sentence_embedding_test),axis=1)\n",
    "\n",
    "print(multi_mean_embedding_train.shape)\n",
    "print(multi_concat_embedding_train.shape)"
   ]
  },
  {
   "cell_type": "code",
   "execution_count": 4,
   "metadata": {},
   "outputs": [],
   "source": [
    "# train + trial\n",
    "X_embed_train_trial_mean_single = np.concatenate((single_mean_embedding_train, single_mean_embedding_trial),axis=0)\n",
    "X_embed_train_trial_mean_multi = np.concatenate((multi_mean_embedding_train, multi_mean_embedding_trial),axis=0)"
   ]
  },
  {
   "cell_type": "code",
   "execution_count": 5,
   "metadata": {},
   "outputs": [],
   "source": [
    "# single + multi\n",
    "X_embed_train_mean_all = np.concatenate((single_mean_embedding_train,multi_mean_embedding_train),axis=0)\n",
    "X_embed_trial_mean_all = np.concatenate((single_mean_embedding_trial,multi_mean_embedding_trial),axis=0)\n",
    "X_embed_test_mean_all = np.concatenate((single_mean_embedding_test,multi_mean_embedding_test),axis=0)"
   ]
  },
  {
   "cell_type": "code",
   "execution_count": 6,
   "metadata": {},
   "outputs": [],
   "source": [
    "# single + multi\n",
    "X_embed_train_concat_all = np.concatenate((single_concat_embedding_train,multi_concat_embedding_train),axis=0)\n",
    "X_embed_trial_concat_all = np.concatenate((single_concat_embedding_trial,multi_concat_embedding_trial),axis=0)\n",
    "X_embed_test_concat_all = np.concatenate((single_concat_embedding_test,multi_concat_embedding_test),axis=0)"
   ]
  },
  {
   "cell_type": "markdown",
   "metadata": {},
   "source": [
    "## 1.2 hand-selected features <a class=\"anchor\" id=\"hand\"></a>\n",
    "\n",
    "* sentence_len - length of a sentence in characters\n",
    "* tokens_per_word - average word length in BERT tokens in a sentence\n",
    "* target_len - length of a target in BERT tokens (if more than 1, the word is rare)\n",
    "* target_len_chars - length of a target in characters\n",
    "* predicted_probs - log probability of a predicted MASK token\n",
    "* target_probs - log probability of target tokens for MASK\n",
    "* senses - number of senses in WordNet\n",
    "* freqs - frequency \n",
    "* morfessor_len - number of morphs in a target\n",
    "* morfessor_freqs - average morph frequency"
   ]
  },
  {
   "cell_type": "code",
   "execution_count": 7,
   "metadata": {},
   "outputs": [],
   "source": [
    "single_train = pd.read_csv('features/single_train.csv', na_filter=False)\n",
    "single_trial = pd.read_csv('features/single_trial.csv', na_filter=False)\n",
    "single_test = pd.read_csv('features/single_test.csv', na_filter=False)\n",
    "\n",
    "multi_train = pd.read_csv('features/multi_train.csv', na_filter=False)\n",
    "multi_trial = pd.read_csv('features/multi_trial.csv', na_filter=False)\n",
    "multi_test = pd.read_csv('features/multi_test.csv', na_filter=False)"
   ]
  },
  {
   "cell_type": "code",
   "execution_count": 8,
   "metadata": {},
   "outputs": [],
   "source": [
    "def get_features(column_names, df):\n",
    "    features = np.array(df[column_names[0]]).reshape(-1, 1)\n",
    "    \n",
    "    for column in column_names[1:]:\n",
    "        next_feature = np.array(df[column]).reshape(-1, 1)\n",
    "        features = np.concatenate((features,next_feature), axis=1)\n",
    "    return features"
   ]
  },
  {
   "cell_type": "code",
   "execution_count": 9,
   "metadata": {},
   "outputs": [],
   "source": [
    "columns = ['target_len', 'target_len_chars', 'target_probs', 'senses', 'freqs',\n",
    "       'morfessor_len', 'morfessor_freqs']\n",
    "\n",
    "#columns = ['sentence_len', 'tokens_per_word', 'target_len', 'target_len_chars',\n",
    "       #'predicted_probs', 'target_probs', 'senses', 'freqs',\n",
    "       #'morfessor_len', 'morfessor_freqs']"
   ]
  },
  {
   "cell_type": "code",
   "execution_count": 10,
   "metadata": {},
   "outputs": [],
   "source": [
    "X_hand_train_single = get_features(columns, single_train)\n",
    "X_hand_trial_single = get_features(columns, single_trial)\n",
    "X_hand_test_single = get_features(columns, single_test)\n",
    "\n",
    "X_hand_train_trial_single = np.concatenate((X_hand_train_single,X_hand_trial_single),axis = 0)"
   ]
  },
  {
   "cell_type": "code",
   "execution_count": 11,
   "metadata": {},
   "outputs": [],
   "source": [
    "X_hand_train_multi = get_features(columns, multi_train)\n",
    "X_hand_trial_multi = get_features(columns, multi_trial)\n",
    "X_hand_test_multi = get_features(columns, multi_test)\n",
    "\n",
    "X_hand_train_trial_multi = np.concatenate((X_hand_train_multi,X_hand_trial_multi),axis = 0)"
   ]
  },
  {
   "cell_type": "markdown",
   "metadata": {},
   "source": [
    "### put into numpy arrays"
   ]
  },
  {
   "cell_type": "code",
   "execution_count": 12,
   "metadata": {},
   "outputs": [],
   "source": [
    "# single + multi\n",
    "X_hand_train_all = np.concatenate((X_hand_train_single, X_hand_train_multi), axis=0)\n",
    "X_hand_trial_all = np.concatenate((X_hand_trial_single, X_hand_trial_multi), axis=0)\n",
    "X_hand_test_all = np.concatenate((X_hand_test_single, X_hand_test_multi), axis=0)"
   ]
  },
  {
   "cell_type": "code",
   "execution_count": 13,
   "metadata": {},
   "outputs": [],
   "source": [
    "# train+ trial, single + multi\n",
    "X_hand_train_trial_all = np.concatenate((X_hand_train_all, X_hand_trial_all), axis=0)\n",
    "X_hand_train_trial_single = np.concatenate((X_hand_train_single, X_hand_trial_single), axis=0)\n",
    "X_hand_train_trial_multi = np.concatenate((X_hand_train_multi, X_hand_trial_multi), axis=0)"
   ]
  },
  {
   "cell_type": "code",
   "execution_count": 14,
   "metadata": {},
   "outputs": [
    {
     "name": "stdout",
     "output_type": "stream",
     "text": [
      "(7662, 7)\n",
      "(9179, 7)\n"
     ]
    }
   ],
   "source": [
    "print(X_hand_train_single.shape)\n",
    "print(X_hand_train_all.shape)"
   ]
  },
  {
   "cell_type": "markdown",
   "metadata": {},
   "source": [
    "## 1.4 concatenate hand-selected and embedding <a class=\"anchor\" id=\"concat\"></a>"
   ]
  },
  {
   "cell_type": "code",
   "execution_count": 15,
   "metadata": {},
   "outputs": [],
   "source": [
    "# train+trial single\n",
    "X_train_trial_single_mean = np.concatenate((X_hand_train_trial_single, X_embed_train_trial_mean_single), axis=1)\n",
    "# train+trial mwe\n",
    "X_train_trial_multi_mean = np.concatenate((X_hand_train_trial_multi, X_embed_train_trial_mean_multi), axis=1)\n",
    "\n",
    "# test for single\n",
    "X_test_single_mean = np.concatenate((X_hand_test_single, single_mean_embedding_test), axis=1)\n",
    "# test for multi\n",
    "X_test_multi_mean = np.concatenate((X_hand_test_multi, multi_mean_embedding_test ), axis=1)\n",
    "\n",
    "# single + multi\n",
    "X_train_all_mean = np.concatenate((X_hand_train_all, X_embed_train_mean_all), axis=1)\n",
    "X_trial_all_mean = np.concatenate((X_hand_trial_all, X_embed_trial_mean_all), axis=1)\n",
    "X_test_all_mean = np.concatenate((X_hand_test_all, X_embed_test_mean_all), axis=1)\n",
    "\n",
    "# single + multi\n",
    "X_train_all_concat = np.concatenate((X_hand_train_all, X_embed_train_concat_all), axis=1)\n",
    "X_trial_all_concat = np.concatenate((X_hand_trial_all, X_embed_trial_concat_all), axis=1)\n",
    "X_test_all_concat = np.concatenate((X_hand_test_all, X_embed_test_concat_all), axis=1)"
   ]
  },
  {
   "cell_type": "code",
   "execution_count": 16,
   "metadata": {},
   "outputs": [],
   "source": [
    "# train + trial, single + multi\n",
    "X_train_everything_mean = np.concatenate((X_train_all_mean, X_trial_all_mean), axis=0)\n",
    "X_train_everything_concat = np.concatenate((X_train_all_concat, X_trial_all_concat), axis=0)"
   ]
  },
  {
   "cell_type": "markdown",
   "metadata": {},
   "source": [
    "## 1.4 get labels <a class=\"anchor\" id=\"labels\"></a>"
   ]
  },
  {
   "cell_type": "code",
   "execution_count": 17,
   "metadata": {},
   "outputs": [],
   "source": [
    "y_train_single = single_train.complexity\n",
    "y_trial_single = single_trial.complexity\n",
    "y_test_single = single_test.complexity\n",
    "\n",
    "y_train_multi = multi_train.complexity\n",
    "y_trial_multi = multi_trial.complexity\n",
    "y_test_multi = multi_test.complexity\n",
    "\n",
    "# single + multi\n",
    "y_train_all = y_train_single.tolist()+ y_train_multi.tolist()\n",
    "y_trial_all = y_trial_single.tolist()+ y_trial_multi.tolist()\n",
    "y_test_all = y_test_single.tolist()+ y_test_multi.tolist()\n",
    "\n",
    "# train + trial\n",
    "y_train_trial_single = y_train_single.tolist()+ y_trial_single.tolist() \n",
    "y_train_trial_multi = y_train_multi.tolist()+ y_trial_multi.tolist() \n",
    "\n",
    "# train + trial, single + multi\n",
    "y_train_trial_everything = y_train_all + y_trial_all #single_train+multi_train+single_trial+multi_trial"
   ]
  },
  {
   "cell_type": "markdown",
   "metadata": {},
   "source": [
    "## 1.5 prediction <a class=\"anchor\" id=\"prediction\"></a>\n",
    "look if the results are the same as submitted\n",
    "features that were used:\n",
    "* mean embedding\n",
    "* target_len \n",
    "* target_len_chars \n",
    "* target_probs \n",
    "* senses \n",
    "* freqs \n",
    "* morfessor_len \n",
    "* morfessor_freqs \n",
    "\n",
    "\n",
    "* linear regression for singles: 0.6714825027 / 0.6660303956 (with morfessor)\n",
    "* linear regression for mwe: 0.7641139008364453 / 0.7832795852063086 (with morfessor)\n",
    "\n",
    "* mlp for singles: 0.71205364\n",
    "* mlp for mwe: 0.7796320834 / 0.7847828272 (with morfessor)"
   ]
  },
  {
   "cell_type": "code",
   "execution_count": 18,
   "metadata": {},
   "outputs": [],
   "source": [
    "from sklearn.linear_model import LinearRegression\n",
    "from sklearn.neural_network import MLPRegressor\n",
    "from sklearn.preprocessing import MinMaxScaler\n",
    "from sklearn.model_selection import cross_validate\n",
    "import scipy\n",
    "import sklearn"
   ]
  },
  {
   "cell_type": "code",
   "execution_count": 19,
   "metadata": {},
   "outputs": [],
   "source": [
    "def print_metrics(y_true, y_pred):\n",
    "    print('=========')\n",
    "    print(\"Pearson\", scipy.stats.pearsonr(y_true, y_pred))\n",
    "    print(\"Spearman\",scipy.stats.spearmanr(y_true, y_pred))\n",
    "    print(\"MAE\", sklearn.metrics.mean_absolute_error(y_true, y_pred))\n",
    "    print(\"MSE\", sklearn.metrics.mean_squared_error(y_true, y_pred))\n",
    "    print(\"R2\", sklearn.metrics.r2_score(y_true, y_pred))\n",
    "    print('=========')"
   ]
  },
  {
   "cell_type": "code",
   "execution_count": 21,
   "metadata": {},
   "outputs": [],
   "source": [
    "# 7 hand-labelled,  768 embedding\n",
    "indices_no_morph = [0,1,2,3,4]+ [x for x in range(8,775)]"
   ]
  },
  {
   "cell_type": "code",
   "execution_count": 22,
   "metadata": {},
   "outputs": [],
   "source": [
    "reg_lr = LinearRegression().fit(X_train_everything_mean, y_train_trial_everything)\n",
    "\n",
    "single_scores_lr = reg_lr.predict(X_test_single_mean)\n",
    "multi_scores_lr = reg_lr.predict(X_test_multi_mean)"
   ]
  },
  {
   "cell_type": "code",
   "execution_count": 23,
   "metadata": {
    "scrolled": true
   },
   "outputs": [
    {
     "name": "stdout",
     "output_type": "stream",
     "text": [
      "=========\n",
      "Pearson (0.6660303955664706, 1.2968417152511241e-118)\n",
      "Spearman SpearmanrResult(correlation=0.6380762707082122, pvalue=5.504463566699008e-106)\n",
      "MAE 0.07468541675701165\n",
      "MSE 0.009472814262149715\n",
      "R2 0.41471917730787744\n",
      "=========\n",
      "=========\n",
      "Pearson (0.7832795852065119, 2.0126549405268116e-39)\n",
      "Spearman SpearmanrResult(correlation=0.7838422730526589, pvalue=1.633754527941613e-39)\n",
      "MAE 0.07564620094614964\n",
      "MSE 0.009414021773963506\n",
      "R2 0.6099776178366909\n",
      "=========\n"
     ]
    }
   ],
   "source": [
    "print_metrics(y_test_single, single_scores_lr)\n",
    "print_metrics(y_test_multi, multi_scores_lr)"
   ]
  },
  {
   "cell_type": "code",
   "execution_count": 24,
   "metadata": {
    "scrolled": true
   },
   "outputs": [
    {
     "name": "stdout",
     "output_type": "stream",
     "text": [
      "=========\n",
      "Pearson (0.6714648359198303, 3.1383617020936733e-121)\n",
      "Spearman SpearmanrResult(correlation=0.6454853548498315, pvalue=3.33208713292933e-109)\n",
      "MAE 0.07554224196519231\n",
      "MSE 0.009613837982576366\n",
      "R2 0.4060059821763935\n",
      "=========\n",
      "=========\n",
      "Pearson (0.7641971565056798, 1.6756642355296712e-36)\n",
      "Spearman SpearmanrResult(correlation=0.7483351078576196, pvalue=2.812430970840922e-34)\n",
      "MAE 0.0895849803648593\n",
      "MSE 0.01221257639178088\n",
      "R2 0.49403366052887643\n",
      "=========\n"
     ]
    }
   ],
   "source": [
    "# no morfessor\n",
    "reg_lr = LinearRegression().fit(X_train_everything_mean[:,indices_no_morph], y_train_trial_everything)\n",
    "\n",
    "single_scores_lr = reg_lr.predict(X_test_single_mean[:,indices_no_morph])\n",
    "multi_scores_lr = reg_lr.predict(X_test_multi_mean[:,indices_no_morph])\n",
    "\n",
    "print_metrics(y_test_single, single_scores_lr)\n",
    "print_metrics(y_test_multi, multi_scores_lr)"
   ]
  },
  {
   "cell_type": "markdown",
   "metadata": {},
   "source": [
    "## read MLP predictions"
   ]
  },
  {
   "cell_type": "code",
   "execution_count": 25,
   "metadata": {},
   "outputs": [],
   "source": [
    "mlp_singles = pd.read_csv('single_test_mlp.csv',  header=None )\n",
    "mlp_multi = pd.read_csv('multi_test_mlp.csv', header=None )"
   ]
  },
  {
   "cell_type": "code",
   "execution_count": 26,
   "metadata": {},
   "outputs": [
    {
     "name": "stdout",
     "output_type": "stream",
     "text": [
      "=========\n",
      "Pearson (0.712053640315103, 1.0899033517164637e-142)\n",
      "Spearman SpearmanrResult(correlation=0.6927331606018716, pvalue=4.98542767000867e-132)\n",
      "MAE 0.06887740893441308\n",
      "MSE 0.008064951277551998\n",
      "R2 0.5017044367102026\n",
      "=========\n",
      "=========\n",
      "Pearson (0.7847828271650756, 1.151244910091874e-39)\n",
      "Spearman SpearmanrResult(correlation=0.7868968082208168, pvalue=5.208206651938672e-40)\n",
      "MAE 0.08070033021763413\n",
      "MSE 0.010099888628988278\n",
      "R2 0.5815621933702364\n",
      "=========\n"
     ]
    }
   ],
   "source": [
    "print_metrics(y_test_single, mlp_singles[1])\n",
    "print_metrics(y_test_multi, mlp_multi[1])"
   ]
  },
  {
   "cell_type": "markdown",
   "metadata": {},
   "source": [
    "# 2 EXPLORE CORRELATION <a class=\"anchor\" id=\"correlation\"></a>\n",
    "1. What features of mwe and single words signal lexical complexity in a similar manner?\n",
    "2. What features differ in their usefulness?\n",
    "\n",
    "\n",
    "* 0 target_len\n",
    "* 1 target_len_chars\n",
    "* 2 target_probs\n",
    "* 3 senses\n",
    "* 4 freqs\n",
    "* 5 morfessor_len\n",
    "* 6 morfessor_freq"
   ]
  },
  {
   "cell_type": "code",
   "execution_count": 27,
   "metadata": {},
   "outputs": [],
   "source": [
    "from sklearn.feature_selection import SelectKBest\n",
    "from sklearn.feature_selection import f_regression, mutual_info_regression\n",
    "import matplotlib.pyplot as plt"
   ]
  },
  {
   "cell_type": "code",
   "execution_count": 28,
   "metadata": {},
   "outputs": [],
   "source": [
    "def plot_scores(scores, feature_names=None):\n",
    "   \n",
    "    plt.bar(np.arange(len(scores)), scores)\n",
    "    if feature_names!=None:\n",
    "        plt.xticks(np.arange(len(scores)), feature_names, rotation='vertical')    \n",
    "    plt.show()\n",
    "\n",
    "def print_scores(scores, feature_names):\n",
    "    for i in np.argsort(-scores):\n",
    "        print(feature_names[i], scores[i]) \n",
    "    \n",
    "    \n",
    "def print_pearson(x,y,feature_names):\n",
    "    for i, name in enumerate(feature_names):\n",
    "        print(\"=====\")\n",
    "        print(name)\n",
    "        print(scipy.stats.pearsonr(x[:,i], y))"
   ]
  },
  {
   "cell_type": "code",
   "execution_count": 29,
   "metadata": {},
   "outputs": [],
   "source": [
    "# mwe+single\n",
    "best_train_trial_mutual_all = SelectKBest(mutual_info_regression).fit(X_train_everything_mean, y_train_trial_everything)\n",
    "best_train_trial_f_all = SelectKBest(f_regression).fit(X_train_everything_mean, y_train_trial_everything)"
   ]
  },
  {
   "cell_type": "code",
   "execution_count": 30,
   "metadata": {},
   "outputs": [
    {
     "data": {
      "image/png": "[encoded data removed]",
      "text/plain": [
       "<Figure size 432x288 with 1 Axes>"
      ]
     },
     "metadata": {
      "needs_background": "light"
     },
     "output_type": "display_data"
    },
    {
     "name": "stdout",
     "output_type": "stream",
     "text": [
      "[  4   0   2   5   1 646   3 564 632   6  32 510 398 637 668 261 352 440\n",
      " 506 341]\n",
      "True\n"
     ]
    },
    {
     "data": {
      "image/png": "[encoded data removed]",
      "text/plain": [
       "<Figure size 432x288 with 1 Axes>"
      ]
     },
     "metadata": {
      "needs_background": "light"
     },
     "output_type": "display_data"
    },
    {
     "name": "stdout",
     "output_type": "stream",
     "text": [
      "[  4   0   2   5 632 646 564  32 510 116 398 506 165   3 312 465 559 341\n",
      " 440 562]\n",
      "False\n",
      "[True, False, True, True, True, True, False]\n"
     ]
    }
   ],
   "source": [
    "selected_features = [0,1,2,3,4,5,6]\n",
    "\n",
    "plot_scores(best_train_trial_mutual_all.scores_)\n",
    "top_20_mutual = np.argsort(-best_train_trial_mutual_all.scores_)[:20]\n",
    "print(top_20_mutual)\n",
    "print(all([f in top_20_mutual for f in selected_features]))\n",
    "\n",
    "plot_scores(best_train_trial_f_all.scores_)\n",
    "top_20_f = np.argsort(-best_train_trial_f_all.scores_)[:20]\n",
    "print(top_20_f )\n",
    "print(all([f in top_20_f for f in selected_features]))\n",
    "print([f in top_20_f for f in selected_features])"
   ]
  },
  {
   "cell_type": "code",
   "execution_count": 31,
   "metadata": {},
   "outputs": [],
   "source": [
    "# sigle train+trial\n",
    "best_train_trial_mutual_single = SelectKBest(mutual_info_regression).fit(X_train_trial_single_mean, y_train_trial_single)\n",
    "best_train_trial_f_single = SelectKBest(f_regression).fit(X_train_trial_single_mean, y_train_trial_single)\n",
    "\n",
    "# mwe train+trial\n",
    "best_train_trial_mutual_multi = SelectKBest(mutual_info_regression).fit(X_train_trial_multi_mean, y_train_trial_multi)\n",
    "best_train_trial_f_multi = SelectKBest(f_regression).fit(X_train_trial_multi_mean, y_train_trial_multi)\n"
   ]
  },
  {
   "cell_type": "code",
   "execution_count": 32,
   "metadata": {},
   "outputs": [
    {
     "name": "stdout",
     "output_type": "stream",
     "text": [
      "SINGLEs\n"
     ]
    },
    {
     "data": {
      "image/png": "[encoded data removed]",
      "text/plain": [
       "<Figure size 432x288 with 1 Axes>"
      ]
     },
     "metadata": {
      "needs_background": "light"
     },
     "output_type": "display_data"
    },
    {
     "name": "stdout",
     "output_type": "stream",
     "text": [
      "[  4   0   2   3   5   1 564 646   6 632  32 341 312 637 510 104 668 261\n",
      " 540 566]\n",
      "True\n"
     ]
    },
    {
     "data": {
      "image/png": "[encoded data removed]",
      "text/plain": [
       "<Figure size 432x288 with 1 Axes>"
      ]
     },
     "metadata": {
      "needs_background": "light"
     },
     "output_type": "display_data"
    },
    {
     "name": "stdout",
     "output_type": "stream",
     "text": [
      "[  4   0   2   5   3 632 646 564 510  32 312 341 559 465 116 214 398 104\n",
      " 506 540]\n",
      "False\n",
      "[True, False, True, True, True, True, False]\n"
     ]
    }
   ],
   "source": [
    "# singles\n",
    "print(\"SINGLEs\")\n",
    "plot_scores(best_train_trial_mutual_single.scores_)\n",
    "top_20_mutual = np.argsort(-best_train_trial_mutual_single.scores_)[:20]\n",
    "print(top_20_mutual)\n",
    "print(all([f in top_20_mutual for f in selected_features]))\n",
    "\n",
    "plot_scores(best_train_trial_f_single.scores_)\n",
    "top_20_f = np.argsort(-best_train_trial_f_single.scores_)[:20]\n",
    "print(top_20_f)\n",
    "print(all([f in top_20_f for f in selected_features]))\n",
    "print([f in top_20_f for f in selected_features])\n"
   ]
  },
  {
   "cell_type": "code",
   "execution_count": 33,
   "metadata": {},
   "outputs": [
    {
     "name": "stdout",
     "output_type": "stream",
     "text": [
      "MWEs\n"
     ]
    },
    {
     "data": {
      "image/png": "[encoded data removed]",
      "text/plain": [
       "<Figure size 432x288 with 1 Axes>"
      ]
     },
     "metadata": {
      "needs_background": "light"
     },
     "output_type": "display_data"
    },
    {
     "name": "stdout",
     "output_type": "stream",
     "text": [
      "[  4   0   5   2   3 770 517 516 529 525 565 736 646 398   1 287  38 258\n",
      " 116 455]\n",
      "False\n",
      "[True, True, True, True, True, True, False]\n"
     ]
    },
    {
     "data": {
      "image/png": "[encoded data removed]",
      "text/plain": [
       "<Figure size 432x288 with 1 Axes>"
      ]
     },
     "metadata": {
      "needs_background": "light"
     },
     "output_type": "display_data"
    },
    {
     "name": "stdout",
     "output_type": "stream",
     "text": [
      "[  4   0   2   5  32   3 646 517 529 770 564   1 398 235 116 565 495 672\n",
      "  29 514]\n",
      "False\n",
      "[True, True, True, True, True, True, False]\n"
     ]
    }
   ],
   "source": [
    "# mwe\n",
    "print(\"MWEs\")\n",
    "plot_scores(best_train_trial_mutual_multi.scores_)\n",
    "top_20_mutual = np.argsort(-best_train_trial_mutual_multi.scores_)[:20]\n",
    "print(top_20_mutual)\n",
    "print(all([f in top_20_mutual for f in selected_features]))\n",
    "print([f in top_20_mutual for f in selected_features])\n",
    "\n",
    "\n",
    "plot_scores(best_train_trial_f_multi.scores_)\n",
    "top_20_f = np.argsort(-best_train_trial_f_multi.scores_)[:20]\n",
    "print(top_20_f)\n",
    "print(all([f in top_20_f for f in selected_features]))\n",
    "print([f in top_20_f for f in selected_features])"
   ]
  },
  {
   "cell_type": "markdown",
   "metadata": {},
   "source": [
    "# 3 PREDICTIONS <a class=\"anchor\" id=\"pred\"></a>\n",
    "## 3.1 predict with the best half <a class=\"anchor\" id=\"best\"></a>"
   ]
  },
  {
   "cell_type": "code",
   "execution_count": 85,
   "metadata": {},
   "outputs": [],
   "source": [
    "linear_400 = np.argsort(-best_train_trial_f_all.scores_)[:400]\n",
    "non_linear_400 = np.argsort(-best_train_trial_mutual_all.scores_)[:400]\n",
    "\n",
    "reg_lr = LinearRegression().fit(X_train_everything_mean[:,linear_400], y_train_trial_everything)\n",
    "\n",
    "single_scores_lr = reg_lr.predict(X_test_single_mean[:,linear_400])\n",
    "multi_scores_lr = reg_lr.predict(X_test_multi_mean[:,linear_400])"
   ]
  },
  {
   "cell_type": "code",
   "execution_count": 86,
   "metadata": {},
   "outputs": [
    {
     "name": "stdout",
     "output_type": "stream",
     "text": [
      "=========\n",
      "Pearson (0.6884278725492099, 9.099914155202677e-130)\n",
      "Spearman SpearmanrResult(correlation=0.6609238891694248, pvalue=3.321383588079386e-116)\n",
      "MAE 0.07303225228729512\n",
      "MSE 0.008810844895969177\n",
      "R2 0.4556191637863629\n",
      "=========\n",
      "=========\n",
      "Pearson (0.7955258201321328, 1.857105450772185e-41)\n",
      "Spearman SpearmanrResult(correlation=0.7994819554841354, pvalue=3.815607578349766e-42)\n",
      "MAE 0.07420731811688554\n",
      "MSE 0.0090644460290861\n",
      "R2 0.6244605208973875\n",
      "=========\n"
     ]
    }
   ],
   "source": [
    "print_metrics(y_test_single, single_scores_lr)\n",
    "print_metrics(y_test_multi, multi_scores_lr)"
   ]
  },
  {
   "cell_type": "code",
   "execution_count": 108,
   "metadata": {},
   "outputs": [],
   "source": [
    "reg_mlp = MLPRegressor(hidden_layer_sizes=20, alpha=0.9).fit(X_train_everything_mean[:,non_linear_400], \n",
    "                                                                             y_train_trial_everything)"
   ]
  },
  {
   "cell_type": "code",
   "execution_count": 109,
   "metadata": {},
   "outputs": [],
   "source": [
    "single_scores_mlp = reg_mlp.predict(X_test_single_mean[:,non_linear_400])\n",
    "multi_scores_mlp = reg_mlp.predict(X_test_multi_mean[:,non_linear_400])"
   ]
  },
  {
   "cell_type": "code",
   "execution_count": 110,
   "metadata": {},
   "outputs": [
    {
     "name": "stdout",
     "output_type": "stream",
     "text": [
      "=========\n",
      "Pearson (0.7067243559589026, 1.1611954839318841e-139)\n",
      "Spearman SpearmanrResult(correlation=0.6803150925186199, pvalue=1.3016283826127394e-125)\n",
      "MAE 0.07008004803496981\n",
      "MSE 0.008235481355933995\n",
      "R2 0.4911681819281398\n",
      "=========\n",
      "=========\n",
      "Pearson (0.7738643639498606, 6.031325928884517e-38)\n",
      "Spearman SpearmanrResult(correlation=0.7734909533058834, pvalue=6.878662770522902e-38)\n",
      "MAE 0.07801197094181886\n",
      "MSE 0.009771683043989437\n",
      "R2 0.5951597319328286\n",
      "=========\n"
     ]
    }
   ],
   "source": [
    "print_metrics(y_test_single, single_scores_mlp)\n",
    "print_metrics(y_test_multi, multi_scores_mlp)"
   ]
  },
  {
   "cell_type": "markdown",
   "metadata": {},
   "source": [
    "## 3.2 predict with subcorpora <a class=\"anchor\" id=\"sub\"></a>"
   ]
  },
  {
   "cell_type": "code",
   "execution_count": 334,
   "metadata": {},
   "outputs": [
    {
     "name": "stdout",
     "output_type": "stream",
     "text": [
      "=========\n",
      "Pearson (0.6693676289324663, 3.257666053229847e-120)\n",
      "Spearman SpearmanrResult(correlation=0.6439911143579506, pvalue=1.5097465274868403e-108)\n",
      "MAE 0.07492015683731251\n",
      "MSE 0.009341662982317289\n",
      "R2 0.4228224005774559\n",
      "=========\n",
      "=========\n",
      "Pearson (0.6779871766725242, 4.0698506191628894e-26)\n",
      "Spearman SpearmanrResult(correlation=0.6598248701010158, pvalue=2.2880674381062952e-24)\n",
      "MAE 0.1039425826070276\n",
      "MSE 0.01705886730125603\n",
      "R2 0.29325210610358987\n",
      "=========\n"
     ]
    }
   ],
   "source": [
    "reg_lr_single = LinearRegression().fit(X_train_trial_single_mean, y_train_trial_single)\n",
    "reg_lr_multi = LinearRegression().fit(X_train_trial_multi_mean, y_train_trial_multi)\n",
    "\n",
    "single_scores_lr = reg_lr_single.predict(X_test_single_mean)\n",
    "multi_scores_lr = reg_lr_multi.predict(X_test_multi_mean)\n",
    "\n",
    "print_metrics(y_test_single, single_scores_lr)\n",
    "print_metrics(y_test_multi, multi_scores_lr)"
   ]
  },
  {
   "cell_type": "code",
   "execution_count": 82,
   "metadata": {},
   "outputs": [
    {
     "name": "stdout",
     "output_type": "stream",
     "text": [
      "=========\n",
      "Pearson (0.7069611433082236, 8.547513482770498e-140)\n",
      "Spearman SpearmanrResult(correlation=0.6860426551213175, pvalue=1.5664447901450286e-128)\n",
      "MAE 0.07063203644058508\n",
      "MSE 0.008195949446535403\n",
      "R2 0.4936106734428154\n",
      "=========\n",
      "=========\n",
      "Pearson (0.751826721273566, 9.414429377238612e-35)\n",
      "Spearman SpearmanrResult(correlation=0.747985440160981, pvalue=3.135081335469885e-34)\n",
      "MAE 0.0841263451321077\n",
      "MSE 0.011086520048240251\n",
      "R2 0.5406861102579059\n",
      "=========\n"
     ]
    }
   ],
   "source": [
    "reg_mlp_single = MLPRegressor(random_state=1, hidden_layer_sizes=20, alpha=0.9).fit(X_train_trial_single_mean, y_train_trial_single)\n",
    "reg_mlp_multi = MLPRegressor(random_state=1, hidden_layer_sizes=20, alpha=0.9).fit(X_train_trial_multi_mean, y_train_trial_multi)\n",
    "\n",
    "single_scores_mlp = reg_mlp_single.predict(X_test_single_mean)\n",
    "multi_scores_mlp = reg_mlp_multi.predict(X_test_multi_mean)\n",
    "\n",
    "print_metrics(y_test_single, single_scores_mlp)\n",
    "print_metrics(y_test_multi, multi_scores_mlp)"
   ]
  }
 ],
 "metadata": {
  "kernelspec": {
   "display_name": "Python 3.6.6 64-bit ('diplomchik': conda)",
   "language": "python",
   "name": "python36664bitdiplomchikcondac9dda3a2509d43ad9b71af24f3396da7"
  },
  "language_info": {
   "codemirror_mode": {
    "name": "ipython",
    "version": 3
   },
   "file_extension": ".py",
   "mimetype": "text/x-python",
   "name": "python",
   "nbconvert_exporter": "python",
   "pygments_lexer": "ipython3",
   "version": "3.6.6"
  }
 },
 "nbformat": 4,
 "nbformat_minor": 4
}
